{
 "cells": [
  {
   "cell_type": "markdown",
   "metadata": {},
   "source": [
    "# Домашнее задание к лекции \"Базовые понятия статистики\""
   ]
  },
  {
   "cell_type": "markdown",
   "metadata": {},
   "source": [
    "## Обязательная часть\n",
    "\n",
    "Будем осуществлять работу с непростым [набором данных](https://raw.githubusercontent.com/obulygin/pyda_homeworks/master/statistics_basics/horse_data.csv) о состоянии здоровья лошадей, испытывающих кишечные колики. \n",
    "\n",
    "### Задание 1. Базовое изучение\n",
    "\n",
    "Изучить представленный набор данных на основе [описания его столбцов](https://raw.githubusercontent.com/obulygin/pyda_homeworks/master/statistics_basics/horse_data.names) и выбрать 8 столбцов для дальнейшего изучения (среди них должны быть как числовые, так и категориальные). Провести расчет базовых метрик для них, кратко описать результаты.\n",
    "\n",
    "### Задание 2. Работа с выбросами\n",
    "\n",
    "В выбранных числовых столбцах найти выбросы, выдвинуть гипотезы об их причинах и проинтерпретировать результаты. Принять и обосновать решение о дальнейшей работе с ними.\n",
    "\n",
    "### Задание 3. Работа с пропусками\n",
    "\n",
    "Рассчитать количество пропусков для всех выбранных столбцов. Принять и обосновать решение о методе работы с пропусками по каждому столбцу, сформировать датафрейм, в котором пропуски будут отсутствовать."
   ]
  },
  {
   "cell_type": "code",
   "execution_count": 1,
   "metadata": {},
   "outputs": [],
   "source": [
    "import pandas as pd"
   ]
  },
  {
   "cell_type": "code",
   "execution_count": 2,
   "metadata": {},
   "outputs": [],
   "source": [
    "df = pd.read_csv('horse_data.csv', names=['surgery', 'age', 'hospital_number', 'rectal_temperature', 'pulse',\n",
    "                                          'respiratory_rate', 'temperature_of_extremities', 'peripheral_pulse', \n",
    "                                          'mucous_membranes', 'capillary_refill_time', 'pain', 'peristalsis', \n",
    "                                          'abdominal_distension', 'nasogastric_tube', 'nasogastric_reflux',\n",
    "                                          'nasogastric_reflux_ph', 'rectal_examination_feces', 'abdomen',\n",
    "                                          'packed_cell_volume', 'total_protein', 'abdominocentesis_appearance',\n",
    "                                          'abdomcentesis_total_protein', 'outcome', 'surgical_lesion', 'type_of_lesion_1',\n",
    "                                          'type_of_lesion_2', 'type_of_lesion_3', 'cp_data'], na_values='?')"
   ]
  },
  {
   "cell_type": "code",
   "execution_count": 3,
   "metadata": {},
   "outputs": [
    {
     "name": "stdout",
     "output_type": "stream",
     "text": [
      "<class 'pandas.core.frame.DataFrame'>\n",
      "RangeIndex: 300 entries, 0 to 299\n",
      "Data columns (total 28 columns):\n",
      " #   Column                       Non-Null Count  Dtype  \n",
      "---  ------                       --------------  -----  \n",
      " 0   surgery                      299 non-null    float64\n",
      " 1   age                          300 non-null    int64  \n",
      " 2   hospital_number              300 non-null    int64  \n",
      " 3   rectal_temperature           240 non-null    float64\n",
      " 4   pulse                        276 non-null    float64\n",
      " 5   respiratory_rate             242 non-null    float64\n",
      " 6   temperature_of_extremities   244 non-null    float64\n",
      " 7   peripheral_pulse             231 non-null    float64\n",
      " 8   mucous_membranes             253 non-null    float64\n",
      " 9   capillary_refill_time        268 non-null    float64\n",
      " 10  pain                         245 non-null    float64\n",
      " 11  peristalsis                  256 non-null    float64\n",
      " 12  abdominal_distension         244 non-null    float64\n",
      " 13  nasogastric_tube             196 non-null    float64\n",
      " 14  nasogastric_reflux           194 non-null    float64\n",
      " 15  nasogastric_reflux_ph        53 non-null     float64\n",
      " 16  rectal_examination_feces     198 non-null    float64\n",
      " 17  abdomen                      182 non-null    float64\n",
      " 18  packed_cell_volume           271 non-null    float64\n",
      " 19  total_protein                267 non-null    float64\n",
      " 20  abdominocentesis_appearance  135 non-null    float64\n",
      " 21  abdomcentesis_total_protein  102 non-null    float64\n",
      " 22  outcome                      299 non-null    float64\n",
      " 23  surgical_lesion              300 non-null    int64  \n",
      " 24  type_of_lesion_1             300 non-null    int64  \n",
      " 25  type_of_lesion_2             300 non-null    int64  \n",
      " 26  type_of_lesion_3             300 non-null    int64  \n",
      " 27  cp_data                      300 non-null    int64  \n",
      "dtypes: float64(21), int64(7)\n",
      "memory usage: 65.8 KB\n"
     ]
    }
   ],
   "source": [
    "df.info()"
   ]
  },
  {
   "cell_type": "code",
   "execution_count": 4,
   "metadata": {},
   "outputs": [
    {
     "data": {
      "text/plain": [
       "1.0    178\n",
       "2.0     77\n",
       "3.0     44\n",
       "Name: outcome, dtype: int64"
      ]
     },
     "execution_count": 4,
     "metadata": {},
     "output_type": "execute_result"
    }
   ],
   "source": [
    "df['outcome'].value_counts()"
   ]
  },
  {
   "cell_type": "code",
   "execution_count": 5,
   "metadata": {},
   "outputs": [],
   "source": [
    "df['outcome'] = df['outcome'].apply(str).replace('1.0', 'lived').replace('2.0', 'died').replace('3.0', 'euthanized')"
   ]
  },
  {
   "cell_type": "markdown",
   "metadata": {},
   "source": [
    "Более половины лошадей успешно прошли лечение. Около 15% были усыплены"
   ]
  },
  {
   "cell_type": "code",
   "execution_count": 6,
   "metadata": {},
   "outputs": [],
   "source": [
    "df['surgery'] = df['surgery'].apply(str).str.replace('1.0', 'yes').replace('2.0', 'no')"
   ]
  },
  {
   "cell_type": "code",
   "execution_count": 7,
   "metadata": {},
   "outputs": [
    {
     "data": {
      "text/plain": [
       "yes    180\n",
       "no     119\n",
       "nan      1\n",
       "Name: surgery, dtype: int64"
      ]
     },
     "execution_count": 7,
     "metadata": {},
     "output_type": "execute_result"
    }
   ],
   "source": [
    "df['surgery'].value_counts()"
   ]
  },
  {
   "cell_type": "markdown",
   "metadata": {},
   "source": [
    "В 60% случаев на лошадях проводилась операция"
   ]
  },
  {
   "cell_type": "code",
   "execution_count": 8,
   "metadata": {},
   "outputs": [],
   "source": [
    "df['age'] = df['age'].apply(str).replace('1', 'adult').replace('9', 'young')"
   ]
  },
  {
   "cell_type": "code",
   "execution_count": 9,
   "metadata": {},
   "outputs": [
    {
     "data": {
      "text/plain": [
       "adult    276\n",
       "young     24\n",
       "Name: age, dtype: int64"
      ]
     },
     "execution_count": 9,
     "metadata": {},
     "output_type": "execute_result"
    }
   ],
   "source": [
    "df['age'].value_counts()"
   ]
  },
  {
   "cell_type": "markdown",
   "metadata": {},
   "source": [
    "Подавляющее большинство лошадей были взрослыми"
   ]
  },
  {
   "cell_type": "code",
   "execution_count": 10,
   "metadata": {},
   "outputs": [],
   "source": [
    "df['hospital_number'] = df['hospital_number'].apply(str)"
   ]
  },
  {
   "cell_type": "code",
   "execution_count": 11,
   "metadata": {},
   "outputs": [
    {
     "data": {
      "text/plain": [
       "0"
      ]
     },
     "execution_count": 11,
     "metadata": {},
     "output_type": "execute_result"
    }
   ],
   "source": [
    "df['hospital_number'].isna().sum()"
   ]
  },
  {
   "cell_type": "code",
   "execution_count": 12,
   "metadata": {},
   "outputs": [
    {
     "name": "stdout",
     "output_type": "stream",
     "text": [
      "284\n",
      "268\n",
      "lived         16\n",
      "died          13\n",
      "euthanized     3\n",
      "Name: outcome, dtype: int64\n"
     ]
    }
   ],
   "source": [
    "print(df['hospital_number'].value_counts().count())\n",
    "print(df['hospital_number'].value_counts()[df['hospital_number'].value_counts() == 1].count())\n",
    "print(df[df['hospital_number'].isin(\n",
    "    df['hospital_number'].value_counts()[df['hospital_number'].value_counts() > 1].index)]['outcome'].value_counts())"
   ]
  },
  {
   "cell_type": "markdown",
   "metadata": {},
   "source": [
    "16 лошадей попадали в больницу дважды, 268 - только 1 раз. Смертность лошадей не зависит от количества госпитализаций"
   ]
  },
  {
   "cell_type": "code",
   "execution_count": 13,
   "metadata": {},
   "outputs": [
    {
     "data": {
      "text/plain": [
       "60"
      ]
     },
     "execution_count": 13,
     "metadata": {},
     "output_type": "execute_result"
    }
   ],
   "source": [
    "df['rectal_temperature'].isna().sum()"
   ]
  },
  {
   "cell_type": "code",
   "execution_count": 14,
   "metadata": {},
   "outputs": [
    {
     "name": "stdout",
     "output_type": "stream",
     "text": [
      "38.16791666666669\n",
      "38.2\n",
      "38.0\n",
      "0.7322886641121578\n",
      "0.5362466875871686\n",
      "35.4\n",
      "40.8\n"
     ]
    }
   ],
   "source": [
    "print(df['rectal_temperature'].mean()) #среднее арифметическое\n",
    "print(df['rectal_temperature'].median()) #медиана\n",
    "print(df['rectal_temperature'].mode()[0]) #мода\n",
    "print(df['rectal_temperature'].std()) #стаднартное отклонение\n",
    "print(df['rectal_temperature'].var()) #дисперсия (квадрат отклонения)\n",
    "print(df['rectal_temperature'].min())\n",
    "print(df['rectal_temperature'].max())"
   ]
  },
  {
   "cell_type": "code",
   "execution_count": 15,
   "metadata": {},
   "outputs": [
    {
     "name": "stdout",
     "output_type": "stream",
     "text": [
      "lived         14\n",
      "died           1\n",
      "euthanized     1\n",
      "Name: outcome, dtype: int64\n",
      "lived         17\n",
      "died           6\n",
      "euthanized     2\n",
      "nan            1\n",
      "Name: outcome, dtype: int64\n",
      "lived         26\n",
      "died          24\n",
      "euthanized    10\n",
      "Name: outcome, dtype: int64\n"
     ]
    }
   ],
   "source": [
    "print(df[df['rectal_temperature'] == df['rectal_temperature'].median()]['outcome'].value_counts())\n",
    "print(df[df['rectal_temperature'] == df['rectal_temperature'].mode()[0]]['outcome'].value_counts())\n",
    "print(df[df['rectal_temperature'].isna()]['outcome'].value_counts())"
   ]
  },
  {
   "cell_type": "markdown",
   "metadata": {},
   "source": [
    "Для пропущенных значений характерно большое количество смертей. Для сохранения общей картины, избавиться от этих значений нельзя."
   ]
  },
  {
   "cell_type": "markdown",
   "metadata": {},
   "source": [
    "Проанализируем выбросы"
   ]
  },
  {
   "cell_type": "code",
   "execution_count": 16,
   "metadata": {},
   "outputs": [
    {
     "name": "stdout",
     "output_type": "stream",
     "text": [
      "37.8\n",
      "38.5\n"
     ]
    },
    {
     "data": {
      "text/plain": [
       "lived         30\n",
       "died          30\n",
       "euthanized    14\n",
       "Name: outcome, dtype: int64"
      ]
     },
     "execution_count": 16,
     "metadata": {},
     "output_type": "execute_result"
    }
   ],
   "source": [
    "q1 = df['rectal_temperature'].quantile(0.25)\n",
    "print(q1)\n",
    "q3 = df['rectal_temperature'].quantile(0.75)\n",
    "print(q3)\n",
    "iqr = q3 - q1\n",
    "lower_bound = q1 - 1.5 * iqr\n",
    "upper_bound = q3 + 1.5 * iqr\n",
    "remove_outliers = df[df['rectal_temperature'].between(lower_bound, upper_bound, inclusive=True)].sort_values('outcome')\n",
    "rt_outliers = pd.concat([df, remove_outliers]).drop_duplicates(keep=False)\n",
    "rt_outliers['outcome'].value_counts()"
   ]
  },
  {
   "cell_type": "markdown",
   "metadata": {},
   "source": [
    "А вот выбросы показывают аналогичную для пропущенных значений картину. Очевидно, \"выброс\" температуры является показателем тяжёлого состояния лошади. Согласно описанию, пониженная температура может свидетельствовать о шоковом состоянии, а повышенная - об инфекции"
   ]
  },
  {
   "cell_type": "code",
   "execution_count": 17,
   "metadata": {},
   "outputs": [
    {
     "name": "stdout",
     "output_type": "stream",
     "text": [
      "died          3\n",
      "lived         2\n",
      "euthanized    2\n",
      "Name: outcome, dtype: int64\n",
      "died          3\n",
      "lived         2\n",
      "euthanized    2\n",
      "Name: outcome, dtype: int64\n"
     ]
    }
   ],
   "source": [
    "print(df[df['rectal_temperature'] <= lower_bound]['outcome'].value_counts())\n",
    "print(df[df['rectal_temperature'] >= upper_bound]['outcome'].value_counts())"
   ]
  },
  {
   "cell_type": "markdown",
   "metadata": {},
   "source": [
    "Для поиска пропущенных значений обратимся к температуре конечностей. Низкая температура указывает на шоковое состояние, а высокая - указывать на повышенную ректальную температуру. Как следствие, между ними должна сохраняться корелляция. Проверим"
   ]
  },
  {
   "cell_type": "code",
   "execution_count": 18,
   "metadata": {},
   "outputs": [
    {
     "data": {
      "text/plain": [
       "Cool      109\n",
       "Normal     78\n",
       "nan        56\n",
       "Warm       30\n",
       "Cold       27\n",
       "Name: temperature_of_extremities, dtype: int64"
      ]
     },
     "execution_count": 18,
     "metadata": {},
     "output_type": "execute_result"
    }
   ],
   "source": [
    "df['temperature_of_extremities'] = (df['temperature_of_extremities'].apply(str).replace('1.0', 'Normal')\n",
    "                                    .replace('2.0', 'Warm')\n",
    "                                    .replace('3.0', 'Cool')\n",
    "                                    .replace('4.0', 'Cold'))\n",
    "df['temperature_of_extremities'].value_counts()"
   ]
  },
  {
   "cell_type": "code",
   "execution_count": 19,
   "metadata": {},
   "outputs": [
    {
     "name": "stdout",
     "output_type": "stream",
     "text": [
      "38.12638888888889\n",
      "38.150000000000006\n",
      "37.8\n",
      "0.5352353847214355\n",
      "0.2864769170579031\n",
      "36.5\n",
      "39.9\n"
     ]
    }
   ],
   "source": [
    "print(df[df['temperature_of_extremities']=='Normal']['rectal_temperature'].mean()) #среднее арифметическое\n",
    "print(df[df['temperature_of_extremities']=='Normal']['rectal_temperature'].median()) #медиана\n",
    "print(df[df['temperature_of_extremities']=='Normal']['rectal_temperature'].mode()[0]) #мода\n",
    "print(df[df['temperature_of_extremities']=='Normal']['rectal_temperature'].std()) #стаднартное отклонение\n",
    "print(df[df['temperature_of_extremities']=='Normal']['rectal_temperature'].var()) #дисперсия (квадрат отклонения)\n",
    "print(df[df['temperature_of_extremities']=='Normal']['rectal_temperature'].min())\n",
    "print(df[df['temperature_of_extremities']=='Normal']['rectal_temperature'].max())"
   ]
  },
  {
   "cell_type": "code",
   "execution_count": 20,
   "metadata": {},
   "outputs": [
    {
     "name": "stdout",
     "output_type": "stream",
     "text": [
      "38.20384615384615\n",
      "38.2\n",
      "38.6\n",
      "0.6212766013496847\n",
      "0.385984615384615\n",
      "36.9\n",
      "39.3\n"
     ]
    }
   ],
   "source": [
    "print(df[df['temperature_of_extremities']=='Warm']['rectal_temperature'].mean()) #среднее арифметическое\n",
    "print(df[df['temperature_of_extremities']=='Warm']['rectal_temperature'].median()) #медиана\n",
    "print(df[df['temperature_of_extremities']=='Warm']['rectal_temperature'].mode()[0]) #мода\n",
    "print(df[df['temperature_of_extremities']=='Warm']['rectal_temperature'].std()) #стаднартное отклонение\n",
    "print(df[df['temperature_of_extremities']=='Warm']['rectal_temperature'].var()) #дисперсия (квадрат отклонения)\n",
    "print(df[df['temperature_of_extremities']=='Warm']['rectal_temperature'].min())\n",
    "print(df[df['temperature_of_extremities']=='Warm']['rectal_temperature'].max())"
   ]
  },
  {
   "cell_type": "code",
   "execution_count": 21,
   "metadata": {},
   "outputs": [
    {
     "name": "stdout",
     "output_type": "stream",
     "text": [
      "38.1875\n",
      "38.1\n",
      "38.0\n",
      "0.9213879184157618\n",
      "0.8489556962025306\n",
      "35.4\n",
      "40.8\n"
     ]
    }
   ],
   "source": [
    "print(df[df['temperature_of_extremities']=='Cool']['rectal_temperature'].mean()) #среднее арифметическое\n",
    "print(df[df['temperature_of_extremities']=='Cool']['rectal_temperature'].median()) #медиана\n",
    "print(df[df['temperature_of_extremities']=='Cool']['rectal_temperature'].mode()[0]) #мода\n",
    "print(df[df['temperature_of_extremities']=='Cool']['rectal_temperature'].std()) #стаднартное отклонение\n",
    "print(df[df['temperature_of_extremities']=='Cool']['rectal_temperature'].var()) #дисперсия (квадрат отклонения)\n",
    "print(df[df['temperature_of_extremities']=='Cool']['rectal_temperature'].min())\n",
    "print(df[df['temperature_of_extremities']=='Cool']['rectal_temperature'].max())"
   ]
  },
  {
   "cell_type": "code",
   "execution_count": 22,
   "metadata": {},
   "outputs": [
    {
     "name": "stdout",
     "output_type": "stream",
     "text": [
      "38.455\n",
      "38.349999999999994\n",
      "37.5\n",
      "0.626162077555341\n",
      "0.3920789473684209\n",
      "37.5\n",
      "39.4\n"
     ]
    }
   ],
   "source": [
    "print(df[df['temperature_of_extremities']=='Cold']['rectal_temperature'].mean()) #среднее арифметическое\n",
    "print(df[df['temperature_of_extremities']=='Cold']['rectal_temperature'].median()) #медиана\n",
    "print(df[df['temperature_of_extremities']=='Cold']['rectal_temperature'].mode()[0]) #мода\n",
    "print(df[df['temperature_of_extremities']=='Cold']['rectal_temperature'].std()) #стаднартное отклонение\n",
    "print(df[df['temperature_of_extremities']=='Cold']['rectal_temperature'].var()) #дисперсия (квадрат отклонения)\n",
    "print(df[df['temperature_of_extremities']=='Cold']['rectal_temperature'].min())\n",
    "print(df[df['temperature_of_extremities']=='Cold']['rectal_temperature'].max())"
   ]
  },
  {
   "cell_type": "code",
   "execution_count": 23,
   "metadata": {},
   "outputs": [
    {
     "name": "stdout",
     "output_type": "stream",
     "text": [
      "38.04285714285713\n",
      "38.05\n",
      "38.3\n",
      "0.7184478042187619\n",
      "0.5161672473867605\n",
      "36.0\n",
      "39.5\n"
     ]
    }
   ],
   "source": [
    "print(df[df['temperature_of_extremities']=='nan']['rectal_temperature'].mean()) #среднее арифметическое\n",
    "print(df[df['temperature_of_extremities']=='nan']['rectal_temperature'].median()) #медиана\n",
    "print(df[df['temperature_of_extremities']=='nan']['rectal_temperature'].mode()[0]) #мода\n",
    "print(df[df['temperature_of_extremities']=='nan']['rectal_temperature'].std()) #стаднартное отклонение\n",
    "print(df[df['temperature_of_extremities']=='nan']['rectal_temperature'].var()) #дисперсия (квадрат отклонения)\n",
    "print(df[df['temperature_of_extremities']=='nan']['rectal_temperature'].min())\n",
    "print(df[df['temperature_of_extremities']=='nan']['rectal_temperature'].max())"
   ]
  },
  {
   "cell_type": "markdown",
   "metadata": {},
   "source": [
    "В группах, где указана температура конечностей, есть наиболее характерные значения моды, которые указывают на корелляцию между температурой конечностей и ректальной температурой. Разобьём пропуски на квантили и заполним их соответствующими значениями."
   ]
  },
  {
   "cell_type": "code",
   "execution_count": 24,
   "metadata": {},
   "outputs": [
    {
     "data": {
      "text/plain": [
       "Cool      119\n",
       "Normal     88\n",
       "Warm       55\n",
       "Cold       38\n",
       "Name: temperature_of_extremities, dtype: int64"
      ]
     },
     "execution_count": 24,
     "metadata": {},
     "output_type": "execute_result"
    }
   ],
   "source": [
    "q1 = df[df['temperature_of_extremities']=='nan']['rectal_temperature'].quantile(0.25)\n",
    "q2 = df[df['temperature_of_extremities']=='nan']['rectal_temperature'].quantile(0.5)\n",
    "q3 = df[df['temperature_of_extremities']=='nan']['rectal_temperature'].quantile(0.75)\n",
    "df.loc[(df['temperature_of_extremities']=='nan') & (df['rectal_temperature'] <= q1), \n",
    "       'temperature_of_extremities'] = 'Cold'\n",
    "df.loc[(df['temperature_of_extremities']=='nan') & (df['rectal_temperature'] <= q2), \n",
    "       'temperature_of_extremities'] = 'Cool'\n",
    "df.loc[(df['temperature_of_extremities']=='nan') & (df['rectal_temperature'] <= q3), \n",
    "       'temperature_of_extremities'] = 'Normal'\n",
    "df.loc[(df['temperature_of_extremities']=='nan'), \n",
    "       'temperature_of_extremities'] = 'Warm'\n",
    "df['temperature_of_extremities'].value_counts()"
   ]
  },
  {
   "cell_type": "markdown",
   "metadata": {},
   "source": [
    "Теперь интерполируем значения моды на пропущенные температуры"
   ]
  },
  {
   "cell_type": "code",
   "execution_count": 27,
   "metadata": {},
   "outputs": [],
   "source": [
    "df['rectal_temperature'] = df.apply(\n",
    "    lambda row: df[df['temperature_of_extremities']==row['temperature_of_extremities']]['rectal_temperature'].mode()[0] if pd.isna(row['rectal_temperature']) else row['rectal_temperature'], axis = 1)\n"
   ]
  },
  {
   "cell_type": "code",
   "execution_count": 28,
   "metadata": {},
   "outputs": [
    {
     "name": "stdout",
     "output_type": "stream",
     "text": [
      "38.16466666666669\n",
      "38.1\n",
      "38.0\n",
      "0.6733470201816547\n",
      "0.4533962095875137\n",
      "35.4\n",
      "40.8\n"
     ]
    }
   ],
   "source": [
    "print(df['rectal_temperature'].mean()) #среднее арифметическое\n",
    "print(df['rectal_temperature'].median()) #медиана\n",
    "print(df['rectal_temperature'].mode()[0]) #мода\n",
    "print(df['rectal_temperature'].std()) #стаднартное отклонение\n",
    "print(df['rectal_temperature'].var()) #дисперсия (квадрат отклонения)\n",
    "print(df['rectal_temperature'].min())\n",
    "print(df['rectal_temperature'].max())"
   ]
  },
  {
   "cell_type": "markdown",
   "metadata": {},
   "source": [
    "Пропущенные значения заполнены, меры изменились незначительно"
   ]
  },
  {
   "cell_type": "code",
   "execution_count": 29,
   "metadata": {},
   "outputs": [
    {
     "name": "stdout",
     "output_type": "stream",
     "text": [
      "71.91304347826087\n",
      "64.0\n",
      "48.0\n",
      "28.630556660735003\n",
      "819.7087747035575\n",
      "30.0\n",
      "184.0\n",
      "24\n"
     ]
    }
   ],
   "source": [
    "print(df['pulse'].mean()) #среднее арифметическое\n",
    "print(df['pulse'].median()) #медиана\n",
    "print(df['pulse'].mode()[0]) #мода\n",
    "print(df['pulse'].std()) #стаднартное отклонение\n",
    "print(df['pulse'].var()) #дисперсия (квадрат отклонения)\n",
    "print(df['pulse'].min())\n",
    "print(df['pulse'].max())\n",
    "print(df['pulse'].isna().sum())"
   ]
  },
  {
   "cell_type": "markdown",
   "metadata": {},
   "source": [
    "Для пульса характерен большой размер стандартных отклонений. При этом, основных факторов два:\n",
    "* Для взрослых лошадей нормальный пульс - 30-40, но у спортивных лошадей он может быть пониженным до 20-25\n",
    "* Повышенный пульс характерен для шока или для болевого синдрома\n",
    "\n",
    "Для начала нормализуем поле pain"
   ]
  },
  {
   "cell_type": "code",
   "execution_count": 31,
   "metadata": {},
   "outputs": [
    {
     "data": {
      "text/plain": [
       "mild           67\n",
       "depressed      59\n",
       "nan            55\n",
       "cont severe    42\n",
       "severe         39\n",
       "no pain        38\n",
       "Name: pain, dtype: int64"
      ]
     },
     "execution_count": 31,
     "metadata": {},
     "output_type": "execute_result"
    }
   ],
   "source": [
    "df['pain'] = (df['pain'].apply(str)\n",
    "              .replace('1.0', 'no pain')\n",
    "              .replace('2.0', 'depressed')\n",
    "              .replace('3.0', 'mild')\n",
    "              .replace('4.0', 'severe')\n",
    "              .replace('5.0', 'cont severe'))\n",
    "df['pain'].value_counts()"
   ]
  },
  {
   "cell_type": "markdown",
   "metadata": {},
   "source": [
    "Также обращаем внимание на зависимость пульса от возраста"
   ]
  },
  {
   "cell_type": "code",
   "execution_count": 37,
   "metadata": {},
   "outputs": [
    {
     "name": "stdout",
     "output_type": "stream",
     "text": [
      "123.36363636363636\n",
      "124.0\n",
      "28.62823357414421\n",
      "67.45669291338582\n",
      "60.0\n",
      "23.933952566649694\n"
     ]
    }
   ],
   "source": [
    "print(df[df['age'] == 'young']['pulse'].mean())\n",
    "print(df[df['age'] == 'young']['pulse'].median())\n",
    "print(df[df['age'] == 'young']['pulse'].std())\n",
    "print(df[df['age'] == 'adult']['pulse'].mean())\n",
    "print(df[df['age'] == 'adult']['pulse'].median())\n",
    "print(df[df['age'] == 'adult']['pulse'].std())"
   ]
  },
  {
   "cell_type": "markdown",
   "metadata": {},
   "source": [
    "Очевидно, при такой разнице, их надо рассматривать как две отдельные группы"
   ]
  },
  {
   "cell_type": "markdown",
   "metadata": {},
   "source": [
    "Рассмотрим зависимость пульса от температуры и боли"
   ]
  },
  {
   "cell_type": "code",
   "execution_count": 68,
   "metadata": {},
   "outputs": [
    {
     "data": {
      "text/html": [
       "<div>\n",
       "<style scoped>\n",
       "    .dataframe tbody tr th:only-of-type {\n",
       "        vertical-align: middle;\n",
       "    }\n",
       "\n",
       "    .dataframe tbody tr th {\n",
       "        vertical-align: top;\n",
       "    }\n",
       "\n",
       "    .dataframe thead th {\n",
       "        text-align: right;\n",
       "    }\n",
       "</style>\n",
       "<table border=\"1\" class=\"dataframe\">\n",
       "  <thead>\n",
       "    <tr style=\"text-align: right;\">\n",
       "      <th></th>\n",
       "      <th></th>\n",
       "      <th>pulse</th>\n",
       "      <th>pulse</th>\n",
       "      <th>pulse</th>\n",
       "    </tr>\n",
       "    <tr>\n",
       "      <th>temperature_of_extremities</th>\n",
       "      <th>pain</th>\n",
       "      <th></th>\n",
       "      <th></th>\n",
       "      <th></th>\n",
       "    </tr>\n",
       "  </thead>\n",
       "  <tbody>\n",
       "    <tr>\n",
       "      <th rowspan=\"5\" valign=\"top\">Cold</th>\n",
       "      <th>cont severe</th>\n",
       "      <td>95.600000</td>\n",
       "      <td>90.0</td>\n",
       "      <td>25.234896</td>\n",
       "    </tr>\n",
       "    <tr>\n",
       "      <th>depressed</th>\n",
       "      <td>94.000000</td>\n",
       "      <td>96.0</td>\n",
       "      <td>28.936713</td>\n",
       "    </tr>\n",
       "    <tr>\n",
       "      <th>mild</th>\n",
       "      <td>59.000000</td>\n",
       "      <td>60.0</td>\n",
       "      <td>17.606817</td>\n",
       "    </tr>\n",
       "    <tr>\n",
       "      <th>nan</th>\n",
       "      <td>66.800000</td>\n",
       "      <td>48.0</td>\n",
       "      <td>31.399929</td>\n",
       "    </tr>\n",
       "    <tr>\n",
       "      <th>severe</th>\n",
       "      <td>77.750000</td>\n",
       "      <td>73.5</td>\n",
       "      <td>18.661458</td>\n",
       "    </tr>\n",
       "    <tr>\n",
       "      <th rowspan=\"6\" valign=\"top\">Cool</th>\n",
       "      <th>cont severe</th>\n",
       "      <td>87.200000</td>\n",
       "      <td>91.0</td>\n",
       "      <td>18.642340</td>\n",
       "    </tr>\n",
       "    <tr>\n",
       "      <th>depressed</th>\n",
       "      <td>79.041667</td>\n",
       "      <td>79.0</td>\n",
       "      <td>24.702542</td>\n",
       "    </tr>\n",
       "    <tr>\n",
       "      <th>mild</th>\n",
       "      <td>62.100000</td>\n",
       "      <td>60.0</td>\n",
       "      <td>17.332355</td>\n",
       "    </tr>\n",
       "    <tr>\n",
       "      <th>nan</th>\n",
       "      <td>64.692308</td>\n",
       "      <td>60.0</td>\n",
       "      <td>21.437446</td>\n",
       "    </tr>\n",
       "    <tr>\n",
       "      <th>no pain</th>\n",
       "      <td>45.142857</td>\n",
       "      <td>48.0</td>\n",
       "      <td>4.298394</td>\n",
       "    </tr>\n",
       "    <tr>\n",
       "      <th>severe</th>\n",
       "      <td>80.333333</td>\n",
       "      <td>81.0</td>\n",
       "      <td>27.655443</td>\n",
       "    </tr>\n",
       "    <tr>\n",
       "      <th rowspan=\"6\" valign=\"top\">Normal</th>\n",
       "      <th>cont severe</th>\n",
       "      <td>64.400000</td>\n",
       "      <td>70.0</td>\n",
       "      <td>16.456002</td>\n",
       "    </tr>\n",
       "    <tr>\n",
       "      <th>depressed</th>\n",
       "      <td>62.933333</td>\n",
       "      <td>56.0</td>\n",
       "      <td>26.628306</td>\n",
       "    </tr>\n",
       "    <tr>\n",
       "      <th>mild</th>\n",
       "      <td>56.916667</td>\n",
       "      <td>52.0</td>\n",
       "      <td>14.397816</td>\n",
       "    </tr>\n",
       "    <tr>\n",
       "      <th>nan</th>\n",
       "      <td>61.545455</td>\n",
       "      <td>52.0</td>\n",
       "      <td>22.357834</td>\n",
       "    </tr>\n",
       "    <tr>\n",
       "      <th>no pain</th>\n",
       "      <td>48.875000</td>\n",
       "      <td>48.0</td>\n",
       "      <td>5.512108</td>\n",
       "    </tr>\n",
       "    <tr>\n",
       "      <th>severe</th>\n",
       "      <td>64.571429</td>\n",
       "      <td>64.0</td>\n",
       "      <td>13.986388</td>\n",
       "    </tr>\n",
       "    <tr>\n",
       "      <th rowspan=\"6\" valign=\"top\">Warm</th>\n",
       "      <th>cont severe</th>\n",
       "      <td>64.500000</td>\n",
       "      <td>64.5</td>\n",
       "      <td>0.707107</td>\n",
       "    </tr>\n",
       "    <tr>\n",
       "      <th>depressed</th>\n",
       "      <td>62.000000</td>\n",
       "      <td>72.0</td>\n",
       "      <td>17.320508</td>\n",
       "    </tr>\n",
       "    <tr>\n",
       "      <th>mild</th>\n",
       "      <td>58.600000</td>\n",
       "      <td>54.0</td>\n",
       "      <td>17.664780</td>\n",
       "    </tr>\n",
       "    <tr>\n",
       "      <th>nan</th>\n",
       "      <td>64.750000</td>\n",
       "      <td>64.0</td>\n",
       "      <td>29.236719</td>\n",
       "    </tr>\n",
       "    <tr>\n",
       "      <th>no pain</th>\n",
       "      <td>51.000000</td>\n",
       "      <td>48.0</td>\n",
       "      <td>7.438638</td>\n",
       "    </tr>\n",
       "    <tr>\n",
       "      <th>severe</th>\n",
       "      <td>90.666667</td>\n",
       "      <td>96.0</td>\n",
       "      <td>20.526406</td>\n",
       "    </tr>\n",
       "  </tbody>\n",
       "</table>\n",
       "</div>"
      ],
      "text/plain": [
       "                                            pulse  pulse      pulse\n",
       "temperature_of_extremities pain                                    \n",
       "Cold                       cont severe  95.600000   90.0  25.234896\n",
       "                           depressed    94.000000   96.0  28.936713\n",
       "                           mild         59.000000   60.0  17.606817\n",
       "                           nan          66.800000   48.0  31.399929\n",
       "                           severe       77.750000   73.5  18.661458\n",
       "Cool                       cont severe  87.200000   91.0  18.642340\n",
       "                           depressed    79.041667   79.0  24.702542\n",
       "                           mild         62.100000   60.0  17.332355\n",
       "                           nan          64.692308   60.0  21.437446\n",
       "                           no pain      45.142857   48.0   4.298394\n",
       "                           severe       80.333333   81.0  27.655443\n",
       "Normal                     cont severe  64.400000   70.0  16.456002\n",
       "                           depressed    62.933333   56.0  26.628306\n",
       "                           mild         56.916667   52.0  14.397816\n",
       "                           nan          61.545455   52.0  22.357834\n",
       "                           no pain      48.875000   48.0   5.512108\n",
       "                           severe       64.571429   64.0  13.986388\n",
       "Warm                       cont severe  64.500000   64.5   0.707107\n",
       "                           depressed    62.000000   72.0  17.320508\n",
       "                           mild         58.600000   54.0  17.664780\n",
       "                           nan          64.750000   64.0  29.236719\n",
       "                           no pain      51.000000   48.0   7.438638\n",
       "                           severe       90.666667   96.0  20.526406"
      ]
     },
     "execution_count": 68,
     "metadata": {},
     "output_type": "execute_result"
    }
   ],
   "source": [
    "df_a = df.loc[df['age'] == 'adult', ['pain', 'temperature_of_extremities', 'pulse']]\n",
    "pd.concat([\n",
    "    df_a.groupby(['temperature_of_extremities', 'pain']).mean(),\n",
    "    df_a.groupby(['temperature_of_extremities', 'pain']).median(),\n",
    "    df_a.groupby(['temperature_of_extremities', 'pain']).std()\n",
    "], axis=1)"
   ]
  },
  {
   "cell_type": "markdown",
   "metadata": {},
   "source": [
    "внутри каждой группы есть корелляция, но разброс слишком высок"
   ]
  },
  {
   "cell_type": "code",
   "execution_count": 78,
   "metadata": {},
   "outputs": [
    {
     "data": {
      "text/html": [
       "<div>\n",
       "<style scoped>\n",
       "    .dataframe tbody tr th:only-of-type {\n",
       "        vertical-align: middle;\n",
       "    }\n",
       "\n",
       "    .dataframe tbody tr th {\n",
       "        vertical-align: top;\n",
       "    }\n",
       "\n",
       "    .dataframe thead th {\n",
       "        text-align: right;\n",
       "    }\n",
       "</style>\n",
       "<table border=\"1\" class=\"dataframe\">\n",
       "  <thead>\n",
       "    <tr style=\"text-align: right;\">\n",
       "      <th></th>\n",
       "      <th></th>\n",
       "      <th>pulse</th>\n",
       "      <th>pulse</th>\n",
       "      <th>pulse</th>\n",
       "    </tr>\n",
       "    <tr>\n",
       "      <th>temperature_of_extremities</th>\n",
       "      <th>pain</th>\n",
       "      <th></th>\n",
       "      <th></th>\n",
       "      <th></th>\n",
       "    </tr>\n",
       "  </thead>\n",
       "  <tbody>\n",
       "    <tr>\n",
       "      <th rowspan=\"5\" valign=\"top\">Cold</th>\n",
       "      <th>cont severe</th>\n",
       "      <td>95.600000</td>\n",
       "      <td>90.0</td>\n",
       "      <td>25.234896</td>\n",
       "    </tr>\n",
       "    <tr>\n",
       "      <th>depressed</th>\n",
       "      <td>94.000000</td>\n",
       "      <td>96.0</td>\n",
       "      <td>28.936713</td>\n",
       "    </tr>\n",
       "    <tr>\n",
       "      <th>mild</th>\n",
       "      <td>59.000000</td>\n",
       "      <td>60.0</td>\n",
       "      <td>17.606817</td>\n",
       "    </tr>\n",
       "    <tr>\n",
       "      <th>nan</th>\n",
       "      <td>66.800000</td>\n",
       "      <td>48.0</td>\n",
       "      <td>31.399929</td>\n",
       "    </tr>\n",
       "    <tr>\n",
       "      <th>severe</th>\n",
       "      <td>77.750000</td>\n",
       "      <td>73.5</td>\n",
       "      <td>18.661458</td>\n",
       "    </tr>\n",
       "    <tr>\n",
       "      <th rowspan=\"6\" valign=\"top\">Cool</th>\n",
       "      <th>cont severe</th>\n",
       "      <td>87.200000</td>\n",
       "      <td>91.0</td>\n",
       "      <td>18.642340</td>\n",
       "    </tr>\n",
       "    <tr>\n",
       "      <th>depressed</th>\n",
       "      <td>79.041667</td>\n",
       "      <td>79.0</td>\n",
       "      <td>24.702542</td>\n",
       "    </tr>\n",
       "    <tr>\n",
       "      <th>mild</th>\n",
       "      <td>62.100000</td>\n",
       "      <td>60.0</td>\n",
       "      <td>17.332355</td>\n",
       "    </tr>\n",
       "    <tr>\n",
       "      <th>nan</th>\n",
       "      <td>64.692308</td>\n",
       "      <td>60.0</td>\n",
       "      <td>21.437446</td>\n",
       "    </tr>\n",
       "    <tr>\n",
       "      <th>no pain</th>\n",
       "      <td>45.142857</td>\n",
       "      <td>48.0</td>\n",
       "      <td>4.298394</td>\n",
       "    </tr>\n",
       "    <tr>\n",
       "      <th>severe</th>\n",
       "      <td>76.823529</td>\n",
       "      <td>80.0</td>\n",
       "      <td>24.021437</td>\n",
       "    </tr>\n",
       "    <tr>\n",
       "      <th rowspan=\"6\" valign=\"top\">Normal</th>\n",
       "      <th>cont severe</th>\n",
       "      <td>64.400000</td>\n",
       "      <td>70.0</td>\n",
       "      <td>16.456002</td>\n",
       "    </tr>\n",
       "    <tr>\n",
       "      <th>depressed</th>\n",
       "      <td>62.933333</td>\n",
       "      <td>56.0</td>\n",
       "      <td>26.628306</td>\n",
       "    </tr>\n",
       "    <tr>\n",
       "      <th>mild</th>\n",
       "      <td>56.916667</td>\n",
       "      <td>52.0</td>\n",
       "      <td>14.397816</td>\n",
       "    </tr>\n",
       "    <tr>\n",
       "      <th>nan</th>\n",
       "      <td>61.545455</td>\n",
       "      <td>52.0</td>\n",
       "      <td>22.357834</td>\n",
       "    </tr>\n",
       "    <tr>\n",
       "      <th>no pain</th>\n",
       "      <td>48.875000</td>\n",
       "      <td>48.0</td>\n",
       "      <td>5.512108</td>\n",
       "    </tr>\n",
       "    <tr>\n",
       "      <th>severe</th>\n",
       "      <td>64.571429</td>\n",
       "      <td>64.0</td>\n",
       "      <td>13.986388</td>\n",
       "    </tr>\n",
       "    <tr>\n",
       "      <th rowspan=\"6\" valign=\"top\">Warm</th>\n",
       "      <th>cont severe</th>\n",
       "      <td>64.500000</td>\n",
       "      <td>64.5</td>\n",
       "      <td>0.707107</td>\n",
       "    </tr>\n",
       "    <tr>\n",
       "      <th>depressed</th>\n",
       "      <td>62.000000</td>\n",
       "      <td>72.0</td>\n",
       "      <td>17.320508</td>\n",
       "    </tr>\n",
       "    <tr>\n",
       "      <th>mild</th>\n",
       "      <td>58.600000</td>\n",
       "      <td>54.0</td>\n",
       "      <td>17.664780</td>\n",
       "    </tr>\n",
       "    <tr>\n",
       "      <th>nan</th>\n",
       "      <td>64.750000</td>\n",
       "      <td>64.0</td>\n",
       "      <td>29.236719</td>\n",
       "    </tr>\n",
       "    <tr>\n",
       "      <th>no pain</th>\n",
       "      <td>51.000000</td>\n",
       "      <td>48.0</td>\n",
       "      <td>7.438638</td>\n",
       "    </tr>\n",
       "    <tr>\n",
       "      <th>severe</th>\n",
       "      <td>90.666667</td>\n",
       "      <td>96.0</td>\n",
       "      <td>20.526406</td>\n",
       "    </tr>\n",
       "  </tbody>\n",
       "</table>\n",
       "</div>"
      ],
      "text/plain": [
       "                                            pulse  pulse      pulse\n",
       "temperature_of_extremities pain                                    \n",
       "Cold                       cont severe  95.600000   90.0  25.234896\n",
       "                           depressed    94.000000   96.0  28.936713\n",
       "                           mild         59.000000   60.0  17.606817\n",
       "                           nan          66.800000   48.0  31.399929\n",
       "                           severe       77.750000   73.5  18.661458\n",
       "Cool                       cont severe  87.200000   91.0  18.642340\n",
       "                           depressed    79.041667   79.0  24.702542\n",
       "                           mild         62.100000   60.0  17.332355\n",
       "                           nan          64.692308   60.0  21.437446\n",
       "                           no pain      45.142857   48.0   4.298394\n",
       "                           severe       76.823529   80.0  24.021437\n",
       "Normal                     cont severe  64.400000   70.0  16.456002\n",
       "                           depressed    62.933333   56.0  26.628306\n",
       "                           mild         56.916667   52.0  14.397816\n",
       "                           nan          61.545455   52.0  22.357834\n",
       "                           no pain      48.875000   48.0   5.512108\n",
       "                           severe       64.571429   64.0  13.986388\n",
       "Warm                       cont severe  64.500000   64.5   0.707107\n",
       "                           depressed    62.000000   72.0  17.320508\n",
       "                           mild         58.600000   54.0  17.664780\n",
       "                           nan          64.750000   64.0  29.236719\n",
       "                           no pain      51.000000   48.0   7.438638\n",
       "                           severe       90.666667   96.0  20.526406"
      ]
     },
     "execution_count": 78,
     "metadata": {},
     "output_type": "execute_result"
    }
   ],
   "source": [
    "df_a = df.loc[df['age'] == 'adult', ['pain', 'temperature_of_extremities', 'pulse']]\n",
    "q1 = df_a['pulse'].quantile(0.25)\n",
    "q3 = df_a['pulse'].quantile(0.75)\n",
    "iqr = q3 - q1\n",
    "lower_bound = q1 - 1.5 * iqr\n",
    "upper_bound = q3 + 1.5 * iqr\n",
    "remove_outliers = df_a[df_a['pulse'].between(lower_bound, upper_bound, inclusive=True)].sort_values('pulse')\n",
    "pd.concat([\n",
    "    remove_outliers.groupby(['temperature_of_extremities', 'pain']).mean(),\n",
    "    remove_outliers.groupby(['temperature_of_extremities', 'pain']).median(),\n",
    "    remove_outliers.groupby(['temperature_of_extremities', 'pain']).std()\n",
    "], axis=1)"
   ]
  },
  {
   "cell_type": "markdown",
   "metadata": {},
   "source": [
    "В полученных результатах можно заметить, что при отсутствии боли пульс стабилен при любой температуре конечностей"
   ]
  },
  {
   "cell_type": "code",
   "execution_count": null,
   "metadata": {},
   "outputs": [],
   "source": [
    "q1 = df['rectal_temperature'].quantile(0.25)\n",
    "print(q1)\n",
    "q3 = df['rectal_temperature'].quantile(0.75)\n",
    "print(q3)\n",
    "iqr = q3 - q1\n",
    "lower_bound = q1 - 1.5 * iqr\n",
    "upper_bound = q3 + 1.5 * iqr\n",
    "remove_outliers = df[df['rectal_temperature'].between(lower_bound, upper_bound, inclusive=True)].sort_values('outcome')\n",
    "rt_outliers = pd.concat([df, remove_outliers]).drop_duplicates(keep=False)\n",
    "rt_outliers['outcome'].value_counts()"
   ]
  },
  {
   "cell_type": "code",
   "execution_count": 20,
   "metadata": {},
   "outputs": [
    {
     "data": {
      "text/plain": [
       "died          15\n",
       "lived         13\n",
       "euthanized     1\n",
       "Name: outcome, dtype: int64"
      ]
     },
     "execution_count": 20,
     "metadata": {},
     "output_type": "execute_result"
    }
   ],
   "source": [
    "q1 = df['pulse'].quantile(0.25)\n",
    "q3 = df['pulse'].quantile(0.75)\n",
    "iqr = q3 - q1\n",
    "lower_bound = q1 - 1.5 * iqr\n",
    "upper_bound = q3 + 1.5 * iqr\n",
    "remove_outliers = df[df['pulse'].between(lower_bound, upper_bound, inclusive=True)].sort_values('outcome')\n",
    "rt_outliers = pd.concat([df, remove_outliers]).drop_duplicates(keep=False)\n",
    "rt_outliers['outcome'].value_counts()"
   ]
  },
  {
   "cell_type": "markdown",
   "metadata": {},
   "source": [
    "В случае с лошадьми с аномально низким или высоким пульсом ситуация аналогичная - более половины лошадей умерли. Эти данные следует оставить"
   ]
  },
  {
   "cell_type": "code",
   "execution_count": 21,
   "metadata": {},
   "outputs": [
    {
     "data": {
      "text/plain": [
       "lived         12\n",
       "died          11\n",
       "euthanized     1\n",
       "Name: outcome, dtype: int64"
      ]
     },
     "execution_count": 21,
     "metadata": {},
     "output_type": "execute_result"
    }
   ],
   "source": [
    "df[df['pulse'].isna()]['outcome'].value_counts()"
   ]
  },
  {
   "cell_type": "code",
   "execution_count": 22,
   "metadata": {},
   "outputs": [
    {
     "data": {
      "text/plain": [
       "48.0    28\n",
       "60.0    25\n",
       "40.0    18\n",
       "88.0    12\n",
       "52.0    12\n",
       "Name: pulse, dtype: int64"
      ]
     },
     "execution_count": 22,
     "metadata": {},
     "output_type": "execute_result"
    }
   ],
   "source": [
    "df['pulse'].value_counts().head(5)"
   ]
  },
  {
   "cell_type": "code",
   "execution_count": 23,
   "metadata": {},
   "outputs": [
    {
     "name": "stdout",
     "output_type": "stream",
     "text": [
      "lived    6\n",
      "died     2\n",
      "Name: outcome, dtype: int64\n",
      "lived         25\n",
      "euthanized     2\n",
      "nan            1\n",
      "Name: outcome, dtype: int64\n"
     ]
    }
   ],
   "source": [
    "print(df[df['pulse'] == df['pulse'].median()]['outcome'].value_counts())\n",
    "print(df[df['pulse'] == df['pulse'].mode()[0]]['outcome'].value_counts())"
   ]
  },
  {
   "cell_type": "markdown",
   "metadata": {},
   "source": [
    "Для лошадей с неуказанным пульсом сохраняется репрезентативность выборки. Для сохранения статистики проставим для них медианное значение, поскольку разница между средним и медианным значением гораздо ниже, чем между средним и модой. Кроме того, значение моды слишком сильно сказывается на выживаемости лошадей."
   ]
  },
  {
   "cell_type": "code",
   "execution_count": 24,
   "metadata": {},
   "outputs": [
    {
     "name": "stdout",
     "output_type": "stream",
     "text": [
      "58\n",
      "30.417355371900825\n",
      "24.5\n",
      "20.0\n",
      "17.642231385134664\n",
      "311.24832824663054\n",
      "8.0\n",
      "96.0\n"
     ]
    }
   ],
   "source": [
    "print(df['respiratory_rate'].isna().sum())\n",
    "print(df['respiratory_rate'].mean()) #среднее арифметическое\n",
    "print(df['respiratory_rate'].median()) #медиана\n",
    "print(df['respiratory_rate'].mode()[0]) #мода\n",
    "print(df['respiratory_rate'].std()) #стаднартное отклонение\n",
    "print(df['respiratory_rate'].var()) #дисперсия (квадрат отклонения)\n",
    "print(df['respiratory_rate'].min())\n",
    "print(df['respiratory_rate'].max())"
   ]
  },
  {
   "cell_type": "code",
   "execution_count": 25,
   "metadata": {},
   "outputs": [
    {
     "name": "stdout",
     "output_type": "stream",
     "text": [
      "lived         31\n",
      "died          19\n",
      "euthanized     8\n",
      "Name: outcome, dtype: int64\n",
      "lived         12\n",
      "died           9\n",
      "euthanized     6\n",
      "Name: outcome, dtype: int64\n",
      "lived         14\n",
      "euthanized     8\n",
      "died           5\n",
      "nan            1\n",
      "Name: outcome, dtype: int64\n"
     ]
    }
   ],
   "source": [
    "print(df[df['respiratory_rate'].isna()]['outcome'].value_counts())\n",
    "print(df[df['respiratory_rate'] == 24]['outcome'].value_counts())\n",
    "print(df[df['respiratory_rate'] == df['respiratory_rate'].mode()[0]]['outcome'].value_counts())"
   ]
  },
  {
   "cell_type": "code",
   "execution_count": 26,
   "metadata": {},
   "outputs": [
    {
     "data": {
      "text/plain": [
       "20.0    28\n",
       "24.0    27\n",
       "16.0    22\n",
       "12.0    19\n",
       "30.0    19\n",
       "40.0    17\n",
       "36.0    16\n",
       "28.0    13\n",
       "32.0    11\n",
       "18.0     8\n",
       "48.0     6\n",
       "14.0     4\n",
       "60.0     4\n",
       "35.0     3\n",
       "68.0     3\n",
       "10.0     3\n",
       "80.0     3\n",
       "44.0     3\n",
       "42.0     3\n",
       "90.0     2\n",
       "84.0     2\n",
       "70.0     2\n",
       "21.0     2\n",
       "96.0     2\n",
       "22.0     2\n",
       "51.0     2\n",
       "9.0      2\n",
       "50.0     2\n",
       "72.0     1\n",
       "23.0     1\n",
       "15.0     1\n",
       "34.0     1\n",
       "25.0     1\n",
       "8.0      1\n",
       "52.0     1\n",
       "58.0     1\n",
       "13.0     1\n",
       "66.0     1\n",
       "26.0     1\n",
       "88.0     1\n",
       "Name: respiratory_rate, dtype: int64"
      ]
     },
     "execution_count": 26,
     "metadata": {},
     "output_type": "execute_result"
    }
   ],
   "source": [
    "df['respiratory_rate'].value_counts()"
   ]
  },
  {
   "cell_type": "code",
   "execution_count": 27,
   "metadata": {},
   "outputs": [],
   "source": [
    "df['respiratory_rate'].fillna(24, inplace=True)"
   ]
  },
  {
   "cell_type": "markdown",
   "metadata": {},
   "source": [
    "NA значения попадают в общую выборку по результатам лечения. Медиана по неясной для меня причине не является значением из выборки. Ближайшее к ней значение - 24, даёт верную статистику по исходам, поэтому можно использовать это значение для заполнения пропущенных значений."
   ]
  },
  {
   "cell_type": "code",
   "execution_count": 33,
   "metadata": {},
   "outputs": [
    {
     "data": {
      "text/plain": [
       "Cool      109\n",
       "Normal     78\n",
       "nan        56\n",
       "Warm       30\n",
       "Cold       27\n",
       "Name: temperature_of_extremities, dtype: int64"
      ]
     },
     "execution_count": 33,
     "metadata": {},
     "output_type": "execute_result"
    }
   ],
   "source": [
    "df['temperature_of_extremities'] = (df['temperature_of_extremities'].apply(str)\n",
    "                                    .replace('1.0', 'Normal')\n",
    "                                    .replace('2.0', 'Warm')\n",
    "                                    .replace('3.0', 'Cool')\n",
    "                                    .replace('4.0', 'Cold'))\n",
    "df['temperature_of_extremities'].value_counts()"
   ]
  },
  {
   "cell_type": "markdown",
   "metadata": {},
   "source": [
    "## Дополнительная часть (необязательная)\n",
    "\n",
    "Выполнить задания 1-3 для всего набора данных."
   ]
  },
  {
   "cell_type": "markdown",
   "metadata": {},
   "source": [
    "#### ПРИМЕЧАНИЕ\n",
    "Домашнее задание сдается ссылкой на репозиторий [GitHub](https://github.com/).\n",
    "Не сможем проверить или помочь, если вы пришлете:\n",
    "- файлы;\n",
    "- архивы;\n",
    "- скриншоты кода.\n",
    "\n",
    "Все обсуждения и консультации по выполнению домашнего задания ведутся только на соответствующем канале в slack.\n",
    "\n",
    "##### Как правильно задавать вопросы аспирантам, преподавателям и коллегам\n",
    "Прежде чем задать вопрос, попробуйте найти ответ в интернете. Навык самостоятельного поиска информации — один из важнейших. Каждый практикующий специалист любого уровня делает это ежедневно.\n",
    "\n",
    "Сформулируйте вопрос по алгоритму:  \n",
    "1) Что я делаю?  \n",
    "2) Какого результата я ожидаю?  \n",
    "3) Как фактический результат отличается от ожидаемого?  \n",
    "4) Что я уже попробовал сделать, чтобы исправить проблему?  \n",
    "\n",
    "По возможности прикрепите к вопросу скриншоты либо ссылки на код. Не выкладывайте все решение, оставляйте только проблемный и воспроизводимый участок кода."
   ]
  }
 ],
 "metadata": {
  "kernelspec": {
   "display_name": "Python 3",
   "language": "python",
   "name": "python3"
  },
  "language_info": {
   "codemirror_mode": {
    "name": "ipython",
    "version": 3
   },
   "file_extension": ".py",
   "mimetype": "text/x-python",
   "name": "python",
   "nbconvert_exporter": "python",
   "pygments_lexer": "ipython3",
   "version": "3.8.5"
  }
 },
 "nbformat": 4,
 "nbformat_minor": 2
}
