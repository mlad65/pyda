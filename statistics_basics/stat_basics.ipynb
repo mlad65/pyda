{
 "cells": [
  {
   "cell_type": "markdown",
   "metadata": {},
   "source": [
    "# Домашнее задание к лекции \"Базовые понятия статистики\""
   ]
  },
  {
   "cell_type": "markdown",
   "metadata": {},
   "source": [
    "## Обязательная часть\n",
    "\n",
    "Будем осуществлять работу с непростым [набором данных](https://raw.githubusercontent.com/obulygin/pyda_homeworks/master/statistics_basics/horse_data.csv) о состоянии здоровья лошадей, испытывающих кишечные колики. \n",
    "\n",
    "### Задание 1. Базовое изучение\n",
    "\n",
    "Изучить представленный набор данных на основе [описания его столбцов](https://raw.githubusercontent.com/obulygin/pyda_homeworks/master/statistics_basics/horse_data.names) и выбрать 8 столбцов для дальнейшего изучения (среди них должны быть как числовые, так и категориальные). Провести расчет базовых метрик для них, кратко описать результаты.\n",
    "\n",
    "### Задание 2. Работа с выбросами\n",
    "\n",
    "В выбранных числовых столбцах найти выбросы, выдвинуть гипотезы об их причинах и проинтерпретировать результаты. Принять и обосновать решение о дальнейшей работе с ними.\n",
    "\n",
    "### Задание 3. Работа с пропусками\n",
    "\n",
    "Рассчитать количество пропусков для всех выбранных столбцов. Принять и обосновать решение о методе работы с пропусками по каждому столбцу, сформировать датафрейм, в котором пропуски будут отсутствовать."
   ]
  },
  {
   "cell_type": "code",
   "execution_count": 2,
   "metadata": {},
   "outputs": [],
   "source": [
    "import pandas as pd"
   ]
  },
  {
   "cell_type": "code",
   "execution_count": 3,
   "metadata": {},
   "outputs": [],
   "source": [
    "df = pd.read_csv('horse_data.csv', names=['surgery', 'age', 'hospital_number', 'rectal_temperature', 'pulse',\n",
    "                                          'respiratory_rate', 'temperature_of_extremities', 'peripheral_pulse', \n",
    "                                          'mucous_membranes', 'capillary_refill_time', 'pain', 'peristalsis', \n",
    "                                          'abdominal_distension', 'nasogastric_tube', 'nasogastric_reflux',\n",
    "                                          'nasogastric_reflux_ph', 'rectal_examination_feces', 'abdomen',\n",
    "                                          'packed_cell_volume', 'total_protein', 'abdominocentesis_appearance',\n",
    "                                          'abdomcentesis_total_protein', 'outcome', 'surgical_lesion', 'type_of_lesion_1',\n",
    "                                          'type_of_lesion_2', 'type_of_lesion_3', 'cp_data'], na_values='?')"
   ]
  },
  {
   "cell_type": "code",
   "execution_count": 4,
   "metadata": {},
   "outputs": [
    {
     "name": "stdout",
     "output_type": "stream",
     "text": [
      "<class 'pandas.core.frame.DataFrame'>\n",
      "RangeIndex: 300 entries, 0 to 299\n",
      "Data columns (total 28 columns):\n",
      " #   Column                       Non-Null Count  Dtype  \n",
      "---  ------                       --------------  -----  \n",
      " 0   surgery                      299 non-null    float64\n",
      " 1   age                          300 non-null    int64  \n",
      " 2   hospital_number              300 non-null    int64  \n",
      " 3   rectal_temperature           240 non-null    float64\n",
      " 4   pulse                        276 non-null    float64\n",
      " 5   respiratory_rate             242 non-null    float64\n",
      " 6   temperature_of_extremities   244 non-null    float64\n",
      " 7   peripheral_pulse             231 non-null    float64\n",
      " 8   mucous_membranes             253 non-null    float64\n",
      " 9   capillary_refill_time        268 non-null    float64\n",
      " 10  pain                         245 non-null    float64\n",
      " 11  peristalsis                  256 non-null    float64\n",
      " 12  abdominal_distension         244 non-null    float64\n",
      " 13  nasogastric_tube             196 non-null    float64\n",
      " 14  nasogastric_reflux           194 non-null    float64\n",
      " 15  nasogastric_reflux_ph        53 non-null     float64\n",
      " 16  rectal_examination_feces     198 non-null    float64\n",
      " 17  abdomen                      182 non-null    float64\n",
      " 18  packed_cell_volume           271 non-null    float64\n",
      " 19  total_protein                267 non-null    float64\n",
      " 20  abdominocentesis_appearance  135 non-null    float64\n",
      " 21  abdomcentesis_total_protein  102 non-null    float64\n",
      " 22  outcome                      299 non-null    float64\n",
      " 23  surgical_lesion              300 non-null    int64  \n",
      " 24  type_of_lesion_1             300 non-null    int64  \n",
      " 25  type_of_lesion_2             300 non-null    int64  \n",
      " 26  type_of_lesion_3             300 non-null    int64  \n",
      " 27  cp_data                      300 non-null    int64  \n",
      "dtypes: float64(21), int64(7)\n",
      "memory usage: 65.8 KB\n"
     ]
    }
   ],
   "source": [
    "df.info()"
   ]
  },
  {
   "cell_type": "code",
   "execution_count": 5,
   "metadata": {},
   "outputs": [
    {
     "data": {
      "text/plain": [
       "1.0    178\n",
       "2.0     77\n",
       "3.0     44\n",
       "Name: outcome, dtype: int64"
      ]
     },
     "execution_count": 5,
     "metadata": {},
     "output_type": "execute_result"
    }
   ],
   "source": [
    "df['outcome'].value_counts()"
   ]
  },
  {
   "cell_type": "code",
   "execution_count": 6,
   "metadata": {},
   "outputs": [],
   "source": [
    "df['outcome'] = df['outcome'].apply(str).replace('1.0', 'lived').replace('2.0', 'died').replace('3.0', 'euthanized')"
   ]
  },
  {
   "cell_type": "markdown",
   "metadata": {},
   "source": [
    "Более половины лошадей успешно прошли лечение. Около 15% были усыплены"
   ]
  },
  {
   "cell_type": "code",
   "execution_count": 7,
   "metadata": {},
   "outputs": [],
   "source": [
    "df['surgery'] = df['surgery'].apply(str).str.replace('1.0', 'yes').replace('2.0', 'no')"
   ]
  },
  {
   "cell_type": "code",
   "execution_count": 8,
   "metadata": {},
   "outputs": [
    {
     "data": {
      "text/plain": [
       "yes    180\n",
       "no     119\n",
       "nan      1\n",
       "Name: surgery, dtype: int64"
      ]
     },
     "execution_count": 8,
     "metadata": {},
     "output_type": "execute_result"
    }
   ],
   "source": [
    "df['surgery'].value_counts()"
   ]
  },
  {
   "cell_type": "markdown",
   "metadata": {},
   "source": [
    "В 60% случаев на лошадях проводилась операция"
   ]
  },
  {
   "cell_type": "code",
   "execution_count": 9,
   "metadata": {},
   "outputs": [],
   "source": [
    "df['age'] = df['age'].apply(str).replace('1', 'adult').replace('9', 'young')"
   ]
  },
  {
   "cell_type": "code",
   "execution_count": 10,
   "metadata": {},
   "outputs": [
    {
     "data": {
      "text/plain": [
       "adult    276\n",
       "young     24\n",
       "Name: age, dtype: int64"
      ]
     },
     "execution_count": 10,
     "metadata": {},
     "output_type": "execute_result"
    }
   ],
   "source": [
    "df['age'].value_counts()"
   ]
  },
  {
   "cell_type": "markdown",
   "metadata": {},
   "source": [
    "Подавляющее большинство лошадей были взрослыми"
   ]
  },
  {
   "cell_type": "code",
   "execution_count": 11,
   "metadata": {},
   "outputs": [],
   "source": [
    "df['hospital_number'] = df['hospital_number'].apply(str)"
   ]
  },
  {
   "cell_type": "code",
   "execution_count": 12,
   "metadata": {},
   "outputs": [
    {
     "data": {
      "text/plain": [
       "0"
      ]
     },
     "execution_count": 12,
     "metadata": {},
     "output_type": "execute_result"
    }
   ],
   "source": [
    "df['hospital_number'].isna().sum()"
   ]
  },
  {
   "cell_type": "code",
   "execution_count": 57,
   "metadata": {},
   "outputs": [
    {
     "name": "stdout",
     "output_type": "stream",
     "text": [
      "284\n",
      "268\n",
      "lived         16\n",
      "died          13\n",
      "euthanized     3\n",
      "Name: outcome, dtype: int64\n"
     ]
    }
   ],
   "source": [
    "print(df['hospital_number'].value_counts().count())\n",
    "print(df['hospital_number'].value_counts()[df['hospital_number'].value_counts() == 1].count())\n",
    "print(df[df['hospital_number'].isin(\n",
    "    df['hospital_number'].value_counts()[df['hospital_number'].value_counts() > 1].index)]['outcome'].value_counts())"
   ]
  },
  {
   "cell_type": "markdown",
   "metadata": {},
   "source": [
    "16 лошадей попадали в больницу дважды, 268 - только 1 раз. Смертность лошадей не зависит от количества госпитализаций"
   ]
  },
  {
   "cell_type": "code",
   "execution_count": 58,
   "metadata": {},
   "outputs": [
    {
     "data": {
      "text/plain": [
       "60"
      ]
     },
     "execution_count": 58,
     "metadata": {},
     "output_type": "execute_result"
    }
   ],
   "source": [
    "df['rectal_temperature'].isna().sum()"
   ]
  },
  {
   "cell_type": "code",
   "execution_count": 59,
   "metadata": {},
   "outputs": [
    {
     "name": "stdout",
     "output_type": "stream",
     "text": [
      "38.16791666666669\n",
      "38.2\n",
      "38.0\n",
      "0.7322886641121578\n",
      "0.5362466875871686\n",
      "35.4\n",
      "40.8\n"
     ]
    }
   ],
   "source": [
    "print(df['rectal_temperature'].mean()) #среднее арифметическое\n",
    "print(df['rectal_temperature'].median()) #медиана\n",
    "print(df['rectal_temperature'].mode()[0]) #мода\n",
    "print(df['rectal_temperature'].std()) #стаднартное отклонение\n",
    "print(df['rectal_temperature'].var()) #дисперсия (квадрат отклонения)\n",
    "print(df['rectal_temperature'].min())\n",
    "print(df['rectal_temperature'].max())"
   ]
  },
  {
   "cell_type": "code",
   "execution_count": 70,
   "metadata": {},
   "outputs": [
    {
     "name": "stdout",
     "output_type": "stream",
     "text": [
      "lived         14\n",
      "died           1\n",
      "euthanized     1\n",
      "Name: outcome, dtype: int64\n",
      "lived         17\n",
      "died           6\n",
      "euthanized     2\n",
      "nan            1\n",
      "Name: outcome, dtype: int64\n",
      "lived         26\n",
      "died          24\n",
      "euthanized    10\n",
      "Name: outcome, dtype: int64\n"
     ]
    }
   ],
   "source": [
    "print(df[df['rectal_temperature'] == df['rectal_temperature'].median()]['outcome'].value_counts())\n",
    "print(df[df['rectal_temperature'] == df['rectal_temperature'].mode()[0]]['outcome'].value_counts())\n",
    "print(df[df['rectal_temperature'].isna()]['outcome'].value_counts())"
   ]
  },
  {
   "cell_type": "markdown",
   "metadata": {},
   "source": [
    "Для пропущенных значений характерно большое количество смертей. Для сохранения общей картины, избавиться от этих значений нельзя."
   ]
  },
  {
   "cell_type": "markdown",
   "metadata": {},
   "source": [
    "Проанализируем выбросы"
   ]
  },
  {
   "cell_type": "code",
   "execution_count": 75,
   "metadata": {},
   "outputs": [
    {
     "name": "stdout",
     "output_type": "stream",
     "text": [
      "37.8\n",
      "38.5\n"
     ]
    },
    {
     "data": {
      "text/plain": [
       "lived         30\n",
       "died          30\n",
       "euthanized    14\n",
       "Name: outcome, dtype: int64"
      ]
     },
     "execution_count": 75,
     "metadata": {},
     "output_type": "execute_result"
    }
   ],
   "source": [
    "q1 = df['rectal_temperature'].quantile(0.25)\n",
    "print(q1)\n",
    "q3 = df['rectal_temperature'].quantile(0.75)\n",
    "print(q3)\n",
    "iqr = q3 - q1\n",
    "lower_bound = q1 - 1.5 * iqr\n",
    "upper_bound = q3 + 1.5 * iqr\n",
    "remove_outliers = df[df['rectal_temperature'].between(lower_bound, upper_bound, inclusive=True)].sort_values('outcome')\n",
    "rt_outliers = pd.concat([df, remove_outliers]).drop_duplicates(keep=False)\n",
    "rt_outliers['outcome'].value_counts()"
   ]
  },
  {
   "cell_type": "markdown",
   "metadata": {},
   "source": [
    "А вот выбросы показывают аналогичную для пропущенных значений картину. Очевидно, \"выброс\" температуры является показателем тяжёлого состояния лошади. Согласно описанию, пониженная температура может свидетельствовать о шоковом состоянии, а повышенная - об инфекции"
   ]
  },
  {
   "cell_type": "code",
   "execution_count": 76,
   "metadata": {},
   "outputs": [
    {
     "name": "stdout",
     "output_type": "stream",
     "text": [
      "lived         39\n",
      "died          19\n",
      "euthanized    15\n",
      "Name: outcome, dtype: int64\n",
      "lived         47\n",
      "died          19\n",
      "euthanized    11\n",
      "Name: outcome, dtype: int64\n"
     ]
    }
   ],
   "source": [
    "print(df[df['rectal_temperature'] <= q1]['outcome'].value_counts())\n",
    "print(df[df['rectal_temperature'] >= q3]['outcome'].value_counts())"
   ]
  },
  {
   "cell_type": "code",
   "execution_count": 18,
   "metadata": {},
   "outputs": [
    {
     "data": {
      "text/plain": [
       "24"
      ]
     },
     "execution_count": 18,
     "metadata": {},
     "output_type": "execute_result"
    }
   ],
   "source": [
    "df['pulse'].isna().sum()"
   ]
  },
  {
   "cell_type": "code",
   "execution_count": 19,
   "metadata": {},
   "outputs": [
    {
     "name": "stdout",
     "output_type": "stream",
     "text": [
      "71.91304347826087\n",
      "64.0\n",
      "48.0\n",
      "28.630556660735003\n",
      "819.7087747035575\n",
      "30.0\n",
      "184.0\n"
     ]
    }
   ],
   "source": [
    "print(df['pulse'].mean()) #среднее арифметическое\n",
    "print(df['pulse'].median()) #медиана\n",
    "print(df['pulse'].mode()[0]) #мода\n",
    "print(df['pulse'].std()) #стаднартное отклонение\n",
    "print(df['pulse'].var()) #дисперсия (квадрат отклонения)\n",
    "print(df['pulse'].min())\n",
    "print(df['pulse'].max())"
   ]
  },
  {
   "cell_type": "code",
   "execution_count": 20,
   "metadata": {},
   "outputs": [
    {
     "data": {
      "text/plain": [
       "died          15\n",
       "lived         13\n",
       "euthanized     1\n",
       "Name: outcome, dtype: int64"
      ]
     },
     "execution_count": 20,
     "metadata": {},
     "output_type": "execute_result"
    }
   ],
   "source": [
    "q1 = df['pulse'].quantile(0.25)\n",
    "q3 = df['pulse'].quantile(0.75)\n",
    "iqr = q3 - q1\n",
    "lower_bound = q1 - 1.5 * iqr\n",
    "upper_bound = q3 + 1.5 * iqr\n",
    "remove_outliers = df[df['pulse'].between(lower_bound, upper_bound, inclusive=True)].sort_values('outcome')\n",
    "rt_outliers = pd.concat([df, remove_outliers]).drop_duplicates(keep=False)\n",
    "rt_outliers['outcome'].value_counts()"
   ]
  },
  {
   "cell_type": "markdown",
   "metadata": {},
   "source": [
    "В случае с лошадьми с аномально низким или высоким пульсом ситуация аналогичная - более половины лошадей умерли. Эти данные следует оставить"
   ]
  },
  {
   "cell_type": "code",
   "execution_count": 21,
   "metadata": {},
   "outputs": [
    {
     "data": {
      "text/plain": [
       "lived         12\n",
       "died          11\n",
       "euthanized     1\n",
       "Name: outcome, dtype: int64"
      ]
     },
     "execution_count": 21,
     "metadata": {},
     "output_type": "execute_result"
    }
   ],
   "source": [
    "df[df['pulse'].isna()]['outcome'].value_counts()"
   ]
  },
  {
   "cell_type": "code",
   "execution_count": 22,
   "metadata": {},
   "outputs": [
    {
     "data": {
      "text/plain": [
       "48.0    28\n",
       "60.0    25\n",
       "40.0    18\n",
       "88.0    12\n",
       "52.0    12\n",
       "Name: pulse, dtype: int64"
      ]
     },
     "execution_count": 22,
     "metadata": {},
     "output_type": "execute_result"
    }
   ],
   "source": [
    "df['pulse'].value_counts().head(5)"
   ]
  },
  {
   "cell_type": "code",
   "execution_count": 23,
   "metadata": {},
   "outputs": [
    {
     "name": "stdout",
     "output_type": "stream",
     "text": [
      "lived    6\n",
      "died     2\n",
      "Name: outcome, dtype: int64\n",
      "lived         25\n",
      "euthanized     2\n",
      "nan            1\n",
      "Name: outcome, dtype: int64\n"
     ]
    }
   ],
   "source": [
    "print(df[df['pulse'] == df['pulse'].median()]['outcome'].value_counts())\n",
    "print(df[df['pulse'] == df['pulse'].mode()[0]]['outcome'].value_counts())"
   ]
  },
  {
   "cell_type": "markdown",
   "metadata": {},
   "source": [
    "Для лошадей с неуказанным пульсом сохраняется репрезентативность выборки. Для сохранения статистики проставим для них медианное значение, поскольку разница между средним и медианным значением гораздо ниже, чем между средним и модой. Кроме того, значение моды слишком сильно сказывается на выживаемости лошадей."
   ]
  },
  {
   "cell_type": "code",
   "execution_count": 24,
   "metadata": {},
   "outputs": [
    {
     "name": "stdout",
     "output_type": "stream",
     "text": [
      "58\n",
      "30.417355371900825\n",
      "24.5\n",
      "20.0\n",
      "17.642231385134664\n",
      "311.24832824663054\n",
      "8.0\n",
      "96.0\n"
     ]
    }
   ],
   "source": [
    "print(df['respiratory_rate'].isna().sum())\n",
    "print(df['respiratory_rate'].mean()) #среднее арифметическое\n",
    "print(df['respiratory_rate'].median()) #медиана\n",
    "print(df['respiratory_rate'].mode()[0]) #мода\n",
    "print(df['respiratory_rate'].std()) #стаднартное отклонение\n",
    "print(df['respiratory_rate'].var()) #дисперсия (квадрат отклонения)\n",
    "print(df['respiratory_rate'].min())\n",
    "print(df['respiratory_rate'].max())"
   ]
  },
  {
   "cell_type": "code",
   "execution_count": 25,
   "metadata": {},
   "outputs": [
    {
     "name": "stdout",
     "output_type": "stream",
     "text": [
      "lived         31\n",
      "died          19\n",
      "euthanized     8\n",
      "Name: outcome, dtype: int64\n",
      "lived         12\n",
      "died           9\n",
      "euthanized     6\n",
      "Name: outcome, dtype: int64\n",
      "lived         14\n",
      "euthanized     8\n",
      "died           5\n",
      "nan            1\n",
      "Name: outcome, dtype: int64\n"
     ]
    }
   ],
   "source": [
    "print(df[df['respiratory_rate'].isna()]['outcome'].value_counts())\n",
    "print(df[df['respiratory_rate'] == 24]['outcome'].value_counts())\n",
    "print(df[df['respiratory_rate'] == df['respiratory_rate'].mode()[0]]['outcome'].value_counts())"
   ]
  },
  {
   "cell_type": "code",
   "execution_count": 26,
   "metadata": {},
   "outputs": [
    {
     "data": {
      "text/plain": [
       "20.0    28\n",
       "24.0    27\n",
       "16.0    22\n",
       "12.0    19\n",
       "30.0    19\n",
       "40.0    17\n",
       "36.0    16\n",
       "28.0    13\n",
       "32.0    11\n",
       "18.0     8\n",
       "48.0     6\n",
       "14.0     4\n",
       "60.0     4\n",
       "35.0     3\n",
       "68.0     3\n",
       "10.0     3\n",
       "80.0     3\n",
       "44.0     3\n",
       "42.0     3\n",
       "90.0     2\n",
       "84.0     2\n",
       "70.0     2\n",
       "21.0     2\n",
       "96.0     2\n",
       "22.0     2\n",
       "51.0     2\n",
       "9.0      2\n",
       "50.0     2\n",
       "72.0     1\n",
       "23.0     1\n",
       "15.0     1\n",
       "34.0     1\n",
       "25.0     1\n",
       "8.0      1\n",
       "52.0     1\n",
       "58.0     1\n",
       "13.0     1\n",
       "66.0     1\n",
       "26.0     1\n",
       "88.0     1\n",
       "Name: respiratory_rate, dtype: int64"
      ]
     },
     "execution_count": 26,
     "metadata": {},
     "output_type": "execute_result"
    }
   ],
   "source": [
    "df['respiratory_rate'].value_counts()"
   ]
  },
  {
   "cell_type": "code",
   "execution_count": 27,
   "metadata": {},
   "outputs": [],
   "source": [
    "df['respiratory_rate'].fillna(24, inplace=True)"
   ]
  },
  {
   "cell_type": "markdown",
   "metadata": {},
   "source": [
    "NA значения попадают в общую выборку по результатам лечения. Медиана по неясной для меня причине не является значением из выборки. Ближайшее к ней значение - 24, даёт верную статистику по исходам, поэтому можно использовать это значение для заполнения пропущенных значений."
   ]
  },
  {
   "cell_type": "code",
   "execution_count": 33,
   "metadata": {},
   "outputs": [
    {
     "data": {
      "text/plain": [
       "Cool      109\n",
       "Normal     78\n",
       "nan        56\n",
       "Warm       30\n",
       "Cold       27\n",
       "Name: temperature_of_extremities, dtype: int64"
      ]
     },
     "execution_count": 33,
     "metadata": {},
     "output_type": "execute_result"
    }
   ],
   "source": [
    "df['temperature_of_extremities'] = (df['temperature_of_extremities'].apply(str)\n",
    "                                    .replace('1.0', 'Normal')\n",
    "                                    .replace('2.0', 'Warm')\n",
    "                                    .replace('3.0', 'Cool')\n",
    "                                    .replace('4.0', 'Cold'))\n",
    "df['temperature_of_extremities'].value_counts()"
   ]
  },
  {
   "cell_type": "markdown",
   "metadata": {},
   "source": [
    "## Дополнительная часть (необязательная)\n",
    "\n",
    "Выполнить задания 1-3 для всего набора данных."
   ]
  },
  {
   "cell_type": "markdown",
   "metadata": {},
   "source": [
    "#### ПРИМЕЧАНИЕ\n",
    "Домашнее задание сдается ссылкой на репозиторий [GitHub](https://github.com/).\n",
    "Не сможем проверить или помочь, если вы пришлете:\n",
    "- файлы;\n",
    "- архивы;\n",
    "- скриншоты кода.\n",
    "\n",
    "Все обсуждения и консультации по выполнению домашнего задания ведутся только на соответствующем канале в slack.\n",
    "\n",
    "##### Как правильно задавать вопросы аспирантам, преподавателям и коллегам\n",
    "Прежде чем задать вопрос, попробуйте найти ответ в интернете. Навык самостоятельного поиска информации — один из важнейших. Каждый практикующий специалист любого уровня делает это ежедневно.\n",
    "\n",
    "Сформулируйте вопрос по алгоритму:  \n",
    "1) Что я делаю?  \n",
    "2) Какого результата я ожидаю?  \n",
    "3) Как фактический результат отличается от ожидаемого?  \n",
    "4) Что я уже попробовал сделать, чтобы исправить проблему?  \n",
    "\n",
    "По возможности прикрепите к вопросу скриншоты либо ссылки на код. Не выкладывайте все решение, оставляйте только проблемный и воспроизводимый участок кода."
   ]
  }
 ],
 "metadata": {
  "kernelspec": {
   "display_name": "Python 3",
   "language": "python",
   "name": "python3"
  },
  "language_info": {
   "codemirror_mode": {
    "name": "ipython",
    "version": 3
   },
   "file_extension": ".py",
   "mimetype": "text/x-python",
   "name": "python",
   "nbconvert_exporter": "python",
   "pygments_lexer": "ipython3",
   "version": "3.8.5"
  }
 },
 "nbformat": 4,
 "nbformat_minor": 2
}
