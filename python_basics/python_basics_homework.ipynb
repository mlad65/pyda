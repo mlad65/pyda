{
 "cells": [
  {
   "cell_type": "markdown",
   "metadata": {},
   "source": [
    "# Домашнее задание по теме \"Основы Python\""
   ]
  },
  {
   "cell_type": "markdown",
   "metadata": {},
   "source": [
    "## Задание 1"
   ]
  },
  {
   "cell_type": "code",
   "execution_count": 3,
   "metadata": {},
   "outputs": [
    {
     "name": "stdout",
     "output_type": "stream",
     "text": [
      "Фраза 1 длиннее фразы 2\n"
     ]
    }
   ],
   "source": [
    "phrase_1 = 'Насколько проще было бы писать программы, если бы не заказчики'\n",
    "phrase_2 = '640Кб должно хватить для любых задач. Билл Гейтс (по легенде)'\n",
    "if len(phrase_1) > len(phrase_2):\n",
    "    print('Фраза 1 длиннее фразы 2')\n",
    "elif len(phrase_1) < len(phrase_2):\n",
    "    print('Фраза 2 длиннее фразы 1')\n",
    "else:\n",
    "    print('Фразы равной длины')"
   ]
  },
  {
   "cell_type": "markdown",
   "metadata": {},
   "source": [
    "## Задание 2"
   ]
  },
  {
   "cell_type": "code",
   "execution_count": 5,
   "metadata": {},
   "outputs": [
    {
     "name": "stdout",
     "output_type": "stream",
     "text": [
      "Високосный год\n"
     ]
    }
   ],
   "source": [
    "year = 1600\n",
    "print('Високосный год' if ((year % 4 == 0) & (year % 100 != 0)) | ((year % 100 == 0) & (year % 400 == 0)) else 'Обычный год')"
   ]
  },
  {
   "cell_type": "markdown",
   "metadata": {},
   "source": [
    "## Задание 3"
   ]
  },
  {
   "cell_type": "code",
   "execution_count": 16,
   "metadata": {},
   "outputs": [
    {
     "name": "stdout",
     "output_type": "stream",
     "text": [
      "Введите день:\n",
      "24\n",
      "Введите месяц:\n",
      "декабрь\n",
      "Ваш знак зодиака: Козерог\n"
     ]
    }
   ],
   "source": [
    "day = int(input('Введите день:\\r\\n'))\n",
    "month =  input('Введите месяц:\\r\\n').lower()\n",
    "\n",
    "sign = 'Указана неверная дата'\n",
    "if (month == 'декабрь' and 22 <= day <= 31) or (month == 'январь' and 1 <= day <= 20):\n",
    "    sign = 'Козерог'\n",
    "elif (month == 'январь' and 21 <= day <= 31) or (month == 'февраль' and 1 <= day <= 19):\n",
    "    sign = 'Водолей'\n",
    "elif (month == 'февраль' and 20 <= day <= 29) or (month == 'март' and 1 <= day <= 20):\n",
    "    sign = 'Рыбы'\n",
    "elif (month == 'март' and 21 <= day <= 31) or (month == 'апрель' and 1 <= day <= 20):\n",
    "    sign = 'Овен'\n",
    "elif (month == 'апрель' and 21 <= day <= 30) or (month == 'май' and 1 <= day <= 22):\n",
    "    sign = 'Телец' \n",
    "elif (month == 'май' and 21 <= day <= 31) or (month == 'июнь' and 1 <= day <= 22):\n",
    "    sign = 'Близнецы'\n",
    "elif (month == 'июнь' and 23 <= day <= 30) or (month == 'июль' and 1 <= day <= 22):\n",
    "    sign = 'Рак'\n",
    "elif (month == 'июль' and 23 <= day <= 31) or ( month == 'август' and 1 <= day <= 21):\n",
    "    sign = 'Лев' \n",
    "elif (month == 'август' and 22 <= day <= 31) or (month == 'сентябрь' and 1 <= day <= 23):\n",
    "    sign = 'Дева'\n",
    "elif (month == 'сентябрь' and 22 <= day <= 30) or (month == 'октябрь' and 1 <= day <= 23):\n",
    "    sign = 'Весы'\n",
    "elif (month == 'октябрь' and 24 <= day <= 31) or (month == 'ноябрь' and 1 <= day <= 22):\n",
    "    sign = 'Скорпион'\n",
    "elif (month == 'ноябрь' and 23 <= day <= 30) or (month == 'декабрь' and 1 <= day <= 21):\n",
    "    sign = 'Стрелец'\n",
    "\n",
    "print('Ваш знак зодиака: ' + sign)"
   ]
  },
  {
   "cell_type": "markdown",
   "metadata": {},
   "source": [
    "## Задание 4"
   ]
  },
  {
   "cell_type": "code",
   "execution_count": 13,
   "metadata": {},
   "outputs": [
    {
     "name": "stdout",
     "output_type": "stream",
     "text": [
      "Стандартная коробка №3\n"
     ]
    }
   ],
   "source": [
    "width = 130\n",
    "length = 5\n",
    "height = 1500\n",
    "\n",
    "if width < 15 and length < 15 and height < 15:\n",
    "    output = 'Стандартная коробка №1'\n",
    "elif 15 <= width < 50 or 15 <= length < 50 or 15 <= height < 50:\n",
    "    output = 'Стандартная коробка №2'\n",
    "elif length > 200:\n",
    "    output = 'Упаковка для лыж'\n",
    "else:\n",
    "    output = 'Стандартная коробка №3'\n",
    "\n",
    "print(output)"
   ]
  },
  {
   "cell_type": "markdown",
   "metadata": {},
   "source": [
    "## Задание 5"
   ]
  },
  {
   "cell_type": "code",
   "execution_count": 14,
   "metadata": {},
   "outputs": [
    {
     "name": "stdout",
     "output_type": "stream",
     "text": [
      "Счастливый билет\n"
     ]
    }
   ],
   "source": [
    "number = 123411\n",
    "left = str(number)[:3]\n",
    "right = str(number)[3:]\n",
    "print('Счастливый билет' if int(left[0]) + int(left[1]) + int(left[2]) == int(right[0]) + int(right[1]) + int(right[2]) else 'Несчастливый билет')"
   ]
  },
  {
   "cell_type": "markdown",
   "metadata": {},
   "source": [
    "## Задание 6"
   ]
  },
  {
   "cell_type": "code",
   "execution_count": 15,
   "metadata": {},
   "outputs": [
    {
     "name": "stdout",
     "output_type": "stream",
     "text": [
      "Введите тип фигуры:\n",
      "круг\n",
      "Введите радиус круга:\n",
      "10\n",
      "Площадь круга: 314.1592653589793\n"
     ]
    }
   ],
   "source": [
    "import math\n",
    "figure = input('Введите тип фигуры:\\r\\n').lower()\n",
    "if figure == 'круг':\n",
    "    r = float(input('Введите радиус круга:\\r\\n'))\n",
    "    output = 'Площадь круга: ' + str(math.pi * r * r)\n",
    "elif figure == 'треугольник':\n",
    "    a = float(input('Введите длину стороны A:\\r\\n'))\n",
    "    b = float(input('Введите длину стороны B:\\r\\n'))\n",
    "    c = float(input('Введите длину стороны C:\\r\\n'))\n",
    "    p = a + b + c\n",
    "    output = 'Площадь треугольника: ' + str(math.sqrt(p * (p - a) * (p - b) * (p - c)))\n",
    "elif figure == 'прямоугольник':\n",
    "    a = float(input('Введите длину стороны A:\\r\\n'))\n",
    "    b = float(input('Введите длину стороны A:\\r\\n'))\n",
    "    output = 'Площадь прямоугольника: ' + str(a * b)\n",
    "print(output)"
   ]
  },
  {
   "cell_type": "code",
   "execution_count": null,
   "metadata": {},
   "outputs": [],
   "source": []
  }
 ],
 "metadata": {
  "kernelspec": {
   "display_name": "Python 3",
   "language": "python",
   "name": "python3"
  },
  "language_info": {
   "codemirror_mode": {
    "name": "ipython",
    "version": 3
   },
   "file_extension": ".py",
   "mimetype": "text/x-python",
   "name": "python",
   "nbconvert_exporter": "python",
   "pygments_lexer": "ipython3",
   "version": "3.8.5"
  }
 },
 "nbformat": 4,
 "nbformat_minor": 4
}
